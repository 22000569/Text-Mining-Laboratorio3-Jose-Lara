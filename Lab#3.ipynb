{
 "cells": [
  {
   "cell_type": "markdown",
   "metadata": {},
   "source": [
    "# Hoja de Trabajo # 3"
   ]
  },
  {
   "cell_type": "markdown",
   "metadata": {},
   "source": [
    "Instrucciones: A continuacion vera una lista de ejercicios que debe completar para poder entregar el la hoja de trabajo #3. Al ﬁnalizar, todos sus archivos deben estar contenidos en un archivo ht3-sucarnet.zip. Este archivo lo debe entregar en el link del GES. Por favor cree una carpeta para cada ejercicio que usted realice."
   ]
  },
  {
   "cell_type": "markdown",
   "metadata": {},
   "source": [
    "## Problema 1: Utilice expresiones regulares para validar las siguintes situaciones:"
   ]
  },
  {
   "cell_type": "markdown",
   "metadata": {},
   "source": [
    "### Pregunta#1 Implemente una regex para validar un correo electronico en general"
   ]
  },
  {
   "cell_type": "markdown",
   "metadata": {},
   "source": [
    "### Respuesta#1: "
   ]
  },
  {
   "cell_type": "code",
   "execution_count": 2,
   "metadata": {},
   "outputs": [
    {
     "name": "stdout",
     "output_type": "stream",
     "text": [
      "['Guate.360-porelmundo@miguate.com', 'Miercoles3@hotmail.com', 'Progra3.galileo@galileo.edu']\n"
     ]
    }
   ],
   "source": [
    "import re\n",
    "\n",
    "text = \"Validar el correo Guate.360-porelmundo@miguate.com Miercoles3@hotmail.com y por ultimo el correo Progra3.galileo@galileo.edu\"\n",
    "\n",
    "pattern = r'[A-Za-z0-9.-]+@[A-Za-z0-9.-]+\\.[A-Za-z]{2,}'\n",
    "matches = re.findall(pattern, text)\n",
    "\n",
    "print(matches)"
   ]
  },
  {
   "cell_type": "markdown",
   "metadata": {},
   "source": [
    "### Pregunta#2: implemente una regex para validar la direccion url de una pagina web con los tipos de domino (.com, .org, .edu). Note que la url incluye el protocolo (http o https) y los sımbolos (//www.)"
   ]
  },
  {
   "cell_type": "markdown",
   "metadata": {},
   "source": [
    "### Respuesta#2: "
   ]
  },
  {
   "cell_type": "code",
   "execution_count": 5,
   "metadata": {},
   "outputs": [
    {
     "name": "stdout",
     "output_type": "stream",
     "text": [
      "https://www.guate360-porelmundo.com ES URL válida.\n",
      "http://www.a2.net No es URL válida.\n",
      "https://www.galileo.edu ES URL válida.\n",
      "https://example.com ES URL válida.\n",
      "http://www.8.org ES URL válida.\n"
     ]
    }
   ],
   "source": [
    "urls = [\n",
    "    \"https://www.guate360-porelmundo.com\",\n",
    "    \"http://www.a2.net\",\n",
    "    \"https://www.galileo.edu\",\n",
    "    \"https://example.com\",\n",
    "    \"http://www.8.org\",\n",
    "]\n",
    "\n",
    "url_pattern = r'^(https?://)?(www\\.)?[A-Za-z0-9.-]+\\.(com|org|edu)$'\n",
    "\n",
    "for url in urls:\n",
    "    if re.match(url_pattern, url):\n",
    "        print(f\"{url} ES URL válida.\")\n",
    "    else:\n",
    "        print(f\"{url} No es URL válida.\")\n"
   ]
  },
  {
   "cell_type": "markdown",
   "metadata": {},
   "source": [
    "### Pregunta#3: Implemente una regex para validar una MAC Address, notar que las mac address estan divididas en 6 bloques de caracteres hexadecimales, es decir que los sımbolos solo pueden variar del 0 al 9 y las letras de la A a la F."
   ]
  },
  {
   "cell_type": "markdown",
   "metadata": {},
   "source": [
    "### Respuesta#3: "
   ]
  },
  {
   "cell_type": "code",
   "execution_count": 15,
   "metadata": {},
   "outputs": [
    {
     "name": "stdout",
     "output_type": "stream",
     "text": [
      "5A 6F AF 8C 9B 1D  Es una MAC válida.\n",
      "6D 6C 4D 3A EB 3F Es una MAC válida.\n",
      "3A 7C FA C8 6D 4J No es una MAC válida.\n"
     ]
    }
   ],
   "source": [
    "mac_addresses = [\n",
    "    \"5A 6F AF 8C 9B 1D \",\n",
    "    \"6D 6C 4D 3A EB 3F\",\n",
    "    \"3A 7C FA C8 6D 4J\",\n",
    "]\n",
    "\n",
    "mac_pattern = r'^([0-9A-Fa-f]{2}\\s?){6}$' \n",
    "for mac in mac_addresses:\n",
    "    if re.match(mac_pattern, mac):\n",
    "        print(f\"{mac} Es una MAC válida.\")\n",
    "    else:\n",
    "        print(f\"{mac} No es una MAC válida.\")\n"
   ]
  },
  {
   "cell_type": "markdown",
   "metadata": {},
   "source": [
    "### Pregunta#4: Implemente una regex para validar una direccion IPv4, notar que las direcciones IPv4 estan divididas en 4 bloques de valores los cuales solo pueden ir desde 0 hasta 255, una ip donde algunos de sus bloques sea mayor a 255 no es valida, ademas tome en cuenta que cada bloque esta separada por un punto."
   ]
  },
  {
   "cell_type": "markdown",
   "metadata": {},
   "source": [
    "### Respuesta#4: "
   ]
  },
  {
   "cell_type": "code",
   "execution_count": 18,
   "metadata": {},
   "outputs": [
    {
     "name": "stdout",
     "output_type": "stream",
     "text": [
      "192.16.8.1 Es una dirección IPv4 válida.\n",
      "234.56.78.90 Es una dirección IPv4 válida.\n",
      "1.2.3.4 Es una dirección IPv4 válida.\n",
      "192.168.45.345 No es una dirección IPv4 válida.\n"
     ]
    }
   ],
   "source": [
    "IPv4_addresses = [\n",
    "    \"192.16.8.1\",\n",
    "    \"234.56.78.90\",\n",
    "    \"1.2.3.4\",\n",
    "    \"192.168.45.345\",\n",
    "]\n",
    "\n",
    "IPv4_pattern = r'^(25[0-5]|2[0-4][0-9]|[01]?[0-9][0-9]?)\\.(25[0-5]|2[0-4][0-9]|[01]?[0-9][0-9]?)\\.(25[0-5]|2[0-4][0-9]|[01]?[0-9][0-9]?)\\.(25[0-5]|2[0-4][0-9]|[01]?[0-9][0-9]?)$' \n",
    "\n",
    "for IPv4 in IPv4_addresses:\n",
    "    if re.match(IPv4_pattern, IPv4):\n",
    "        print(f\"{IPv4} Es una dirección IPv4 válida.\")\n",
    "    else:\n",
    "        print(f\"{IPv4} No es una dirección IPv4 válida.\")"
   ]
  },
  {
   "cell_type": "markdown",
   "metadata": {},
   "source": [
    "### Pregunta#5: Implemente una regex para validar una fecha con la secuencia dıa-mes-año donde el dıa, mes y año puedan estar separados ya sea por el caracter / o el caracter - o el caracter ., notar que las fechas son validas si los si los dıas estan deﬁnidos desde el 1 al 31, el mes del 1 al 12 y el año de 2000 al 2019. Tambien debe tomar en cuenta que los dıas y meses pueden estar escritos ya sea con uno o dos caracteres por ejemplo: Enero puede escribirse como 1 o como 01. Los años tambien pueden expresarse ya sea con dos o con cuatro caracteres por ejemplo: 19 o 2019 son validos."
   ]
  },
  {
   "cell_type": "markdown",
   "metadata": {},
   "source": [
    "### Respuesta#5: "
   ]
  },
  {
   "cell_type": "code",
   "execution_count": 51,
   "metadata": {},
   "outputs": [
    {
     "name": "stdout",
     "output_type": "stream",
     "text": [
      "20/1/2019 ES una fecha válida.\n",
      "12.03.2005 ES una fecha válida.\n",
      "31-11-08 ES una fecha válida.\n",
      "1-1-2012 ES una fecha válida.\n",
      "12-12-22 No es una fecha válida.\n"
     ]
    }
   ],
   "source": [
    "fechas = [\n",
    "    \"20/1/2019\",\n",
    "    \"12.03.2005\",\n",
    "    \"31-11-08\",\n",
    "    \"1-1-2012\",\n",
    "    \"12-12-22\",\n",
    "]\n",
    "\n",
    "regex = r'^(0?[1-9]|[12][0-9]|3[01])[-./](0?[1-9]|1[0-2])[-./](0?[0-9]|1[0-9]|20[0-1][0-9])$'\n",
    "\n",
    "for fecha in fechas:\n",
    "    if re.match(regex, fecha):\n",
    "        print(f\"{fecha} ES una fecha válida.\")\n",
    "    else:\n",
    "        print(f\"{fecha} No es una fecha válida.\")"
   ]
  },
  {
   "cell_type": "markdown",
   "metadata": {},
   "source": [
    "## Problema 2:\n",
    "En la carpeta encontrara adjuntos 21 documentos que tiene 100 fechas en la secuencia dias-mes-año \n",
    "pero con distinto separador y distinto formato de mes, en algunos casos aparece un numero y en \n",
    "otros el nombre del mes en ingles, por ejemplo: Enero pueden aparecer como 1 o como Jan. Utilice Python y expresiones regulares para encontrar el dia, mes y año promedio total del los 21 \n",
    "archivos, los resultados deben ser un double."
   ]
  },
  {
   "cell_type": "code",
   "execution_count": 82,
   "metadata": {},
   "outputs": [],
   "source": [
    "import pandas as pd\n",
    "import re\n",
    "from statistics import mean\n",
    "from datetime import datetime"
   ]
  },
  {
   "cell_type": "code",
   "execution_count": 88,
   "metadata": {},
   "outputs": [],
   "source": [
    "file_path = 'C:/Users/Jose L/Documents/Phyton scripts/Text Mining/Laboratorio#3/dataset.xlsx' \n",
    "df = pd.read_excel(file_path) #Se creo un excel con todos los datos de la carpeta para este ejercicio\n",
    "\n",
    "fechas = df['Fechas'].tolist()\n",
    "date_pattern = r'(\\d{1,2}|Jan|Feb|Mar|Apr|May|Jun|Jul|Aug|Sep|Oct|Nov|Dec)[\\s\\-/.]+(\\d{1,2})[\\s\\-/.]+(\\d{4})'\n",
    "\n",
    "dias = []\n",
    "meses = []\n",
    "años = []\n",
    "\n",
    "for fecha in fechas:\n",
    "    if isinstance(fecha, str):\n",
    "        match = re.search(date_pattern, fecha)\n",
    "        if match:\n",
    "            dia = match.group(1)\n",
    "            mes = match.group(2)\n",
    "            año = match.group(3)\n",
    "\n",
    "            if mes.isdigit(): # Convierte el mes a número si esta escrito\n",
    "                mes = int(mes)\n",
    "            else:\n",
    "                mes = datetime.strptime(mes, \"%b\").month\n",
    "\n",
    "            dias.append(int(dia))\n",
    "            meses.append(mes)\n",
    "            años.append(int(año)) "
   ]
  },
  {
   "cell_type": "code",
   "execution_count": 92,
   "metadata": {},
   "outputs": [],
   "source": [
    "promedio_dia = mean(dias)\n",
    "promedio_mes = mean(meses)\n",
    "promedio_año = mean(años)"
   ]
  },
  {
   "cell_type": "code",
   "execution_count": 94,
   "metadata": {},
   "outputs": [
    {
     "name": "stdout",
     "output_type": "stream",
     "text": [
      "El día promedio es: 17.58294852060886\n",
      "El mes promedio es: 6.480246280143663\n",
      "El año promedio es: 2016.681546092013\n"
     ]
    }
   ],
   "source": [
    "print(f\"El día promedio es: {promedio_dia}\")\n",
    "print(f\"El mes promedio es: {promedio_mes}\")\n",
    "print(f\"El año promedio es: {promedio_año}\")"
   ]
  }
 ],
 "metadata": {
  "kernelspec": {
   "display_name": "Clasemiercoles",
   "language": "python",
   "name": "python3"
  },
  "language_info": {
   "codemirror_mode": {
    "name": "ipython",
    "version": 3
   },
   "file_extension": ".py",
   "mimetype": "text/x-python",
   "name": "python",
   "nbconvert_exporter": "python",
   "pygments_lexer": "ipython3",
   "version": "3.8.16"
  },
  "orig_nbformat": 4
 },
 "nbformat": 4,
 "nbformat_minor": 2
}
